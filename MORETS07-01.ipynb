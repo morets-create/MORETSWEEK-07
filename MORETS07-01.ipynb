{
  "nbformat": 4,
  "nbformat_minor": 0,
  "metadata": {
    "colab": {
      "provenance": []
    },
    "kernelspec": {
      "name": "python3",
      "display_name": "Python 3"
    },
    "language_info": {
      "name": "python"
    }
  },
  "cells": [
    {
      "cell_type": "code",
      "execution_count": 1,
      "metadata": {
        "colab": {
          "base_uri": "https://localhost:8080/"
        },
        "id": "X3BblQvg_QoP",
        "outputId": "815f4f2f-ab4a-43d7-b5f7-dae1d7ad5836"
      },
      "outputs": [
        {
          "output_type": "stream",
          "name": "stdout",
          "text": [
            "Masukkan angka: 11\n",
            "7\n"
          ]
        }
      ],
      "source": [
        "def bilangan_prima(angka):\n",
        "    cek=0\n",
        "    for i in range(1,angka+1):\n",
        "        if angka % i == 0:\n",
        "            cek += 1\n",
        "    return cek\n",
        "\n",
        "\n",
        "def prima_terdekat_dibawah(angka):\n",
        "\n",
        "    for i in range(angka-1, 0, -1):\n",
        "      if bilangan_prima(i) == 2:\n",
        "          print(i)\n",
        "          break\n",
        "\n",
        "angka = int(input(\"Masukkan angka: \"))\n",
        "prima_terdekat_dibawah(angka)\n"
      ]
    }
  ]
}
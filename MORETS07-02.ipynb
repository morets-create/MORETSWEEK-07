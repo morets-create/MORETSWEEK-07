{
  "nbformat": 4,
  "nbformat_minor": 0,
  "metadata": {
    "colab": {
      "provenance": []
    },
    "kernelspec": {
      "name": "python3",
      "display_name": "Python 3"
    },
    "language_info": {
      "name": "python"
    }
  },
  "cells": [
    {
      "cell_type": "code",
      "execution_count": 1,
      "metadata": {
        "colab": {
          "base_uri": "https://localhost:8080/"
        },
        "id": "X3BblQvg_QoP",
        "outputId": "f9508a9f-1d6a-42e0-f367-5fa1d2eadc1f"
      },
      "outputs": [
        {
          "output_type": "stream",
          "name": "stdout",
          "text": [
            "720 6 5 4 3 2 1 \n",
            "120 5 4 3 2 1 \n",
            "24 4 3 2 1 \n",
            "6 3 2 1 \n",
            "2 2 1 \n",
            "1 1 \n"
          ]
        }
      ],
      "source": [
        "import math\n",
        "\n",
        "def deret_bilangan(n):\n",
        "    # hasil = 0\n",
        "    for i in range(n, 0, -1):\n",
        "        hasil = math.factorial(i)\n",
        "        print(hasil, end=\" \")\n",
        "        for j in range(i,0,-1):\n",
        "            print(j,end=' ')\n",
        "        print()\n",
        "\n",
        "deret_bilangan(6)"
      ]
    }
  ]
}
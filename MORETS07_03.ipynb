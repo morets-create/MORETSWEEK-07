{
  "nbformat": 4,
  "nbformat_minor": 0,
  "metadata": {
    "colab": {
      "provenance": []
    },
    "kernelspec": {
      "name": "python3",
      "display_name": "Python 3"
    },
    "language_info": {
      "name": "python"
    }
  },
  "cells": [
    {
      "cell_type": "code",
      "execution_count": 1,
      "metadata": {
        "colab": {
          "base_uri": "https://localhost:8080/"
        },
        "id": "xhF9sTVopTZH",
        "outputId": "d584057f-4062-4b9f-b5f0-7d73feb7f197"
      },
      "outputs": [
        {
          "output_type": "stream",
          "name": "stdout",
          "text": [
            "1 2 3 4 \n",
            "5 6 7 8 \n",
            "9 10 11 12 \n"
          ]
        }
      ],
      "source": [
        "def deret_bilangan(bawah,samping):\n",
        "  angka = 1\n",
        "  for i in range(bawah):\n",
        "    for j in range(samping):\n",
        "      print(angka, end=' ')\n",
        "      angka += 1\n",
        "    print()\n",
        "deret_bilangan(3,4)"
      ]
    }
  ]
}